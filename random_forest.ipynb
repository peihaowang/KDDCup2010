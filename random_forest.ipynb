{
 "cells": [
  {
   "cell_type": "markdown",
   "metadata": {},
   "source": [
    "# Machine Learning"
   ]
  },
  {
   "cell_type": "code",
   "execution_count": 2,
   "metadata": {},
   "outputs": [],
   "source": [
    "%matplotlib inline\n",
    "import pandas as pd\n",
    "import numpy as np\n",
    "import matplotlib.pyplot as plt\n",
    "import sklearn\n",
    "from utils import *"
   ]
  },
  {
   "cell_type": "markdown",
   "metadata": {},
   "source": [
    "## Data Loading"
   ]
  },
  {
   "cell_type": "markdown",
   "metadata": {},
   "source": [
    "### for separte data"
   ]
  },
  {
   "cell_type": "code",
   "execution_count": null,
   "metadata": {},
   "outputs": [],
   "source": [
    "# Get the basic data\n",
    "train_filepath = 'data/train.csv'\n",
    "traindf = pd.read_table(train_filepath)"
   ]
  },
  {
   "cell_type": "code",
   "execution_count": null,
   "metadata": {},
   "outputs": [],
   "source": [
    "# CFAR features\n",
    "train_filepath = 'data/CFAR_features_train.csv'\n",
    "train_cfar = pd.read_table(train_filepath)[CFAR_features]"
   ]
  },
  {
   "cell_type": "code",
   "execution_count": null,
   "metadata": {},
   "outputs": [],
   "source": [
    "# CFAREX features\n",
    "train_filepath = 'data/cfarex_features_train.csv'\n",
    "train_cfarex = pd.read_table(train_filepath)[CFAREX_features]"
   ]
  },
  {
   "cell_type": "code",
   "execution_count": null,
   "metadata": {},
   "outputs": [],
   "source": [
    "# Ability features\n",
    "train_filepath = 'data/ability_features_train.csv'\n",
    "train_abt = pd.read_table(train_filepath)[ability_features]"
   ]
  },
  {
   "cell_type": "markdown",
   "metadata": {},
   "source": [
    "### for aggregate data"
   ]
  },
  {
   "cell_type": "code",
   "execution_count": 205,
   "metadata": {},
   "outputs": [
    {
     "name": "stderr",
     "output_type": "stream",
     "text": [
      "/Users/zhangge/Documents/DB_proj/env/lib/python3.6/site-packages/ipykernel_launcher.py:2: FutureWarning: read_table is deprecated, use read_csv instead, passing sep='\\t'.\n",
      "  \n"
     ]
    }
   ],
   "source": [
    "train_filepath = 'data/agg_train.csv'\n",
    "traindf = pd.read_table(train_filepath)"
   ]
  },
  {
   "cell_type": "code",
   "execution_count": 5,
   "metadata": {},
   "outputs": [],
   "source": [
    "def f_norm(row, col):\n",
    "    if isinstance(row[col], int) or isinstance(row[col], float):\n",
    "        return row[col] / (row[col] + 1)\n",
    "    else:\n",
    "        return 0.0\n",
    "\n",
    "traindf[\"Problem View(Norm)\"] = traindf.apply(f_norm, axis=\"columns\", args=(\"Problem View\",))\n",
    "traindf[\"Opportunity(Norm)\"] = traindf.apply(f_norm, axis=\"columns\", args=(\"Opportunity(Default)\",))"
   ]
  },
  {
   "cell_type": "code",
   "execution_count": 118,
   "metadata": {},
   "outputs": [],
   "source": [
    "# Concat\n",
    "traindf = pd.concat([traindf, train_cfar, train_cfarex, train_abt], axis=\"columns\")"
   ]
  },
  {
   "cell_type": "code",
   "execution_count": 206,
   "metadata": {},
   "outputs": [
    {
     "data": {
      "text/html": [
       "<div>\n",
       "<style scoped>\n",
       "    .dataframe tbody tr th:only-of-type {\n",
       "        vertical-align: middle;\n",
       "    }\n",
       "\n",
       "    .dataframe tbody tr th {\n",
       "        vertical-align: top;\n",
       "    }\n",
       "\n",
       "    .dataframe thead th {\n",
       "        text-align: right;\n",
       "    }\n",
       "</style>\n",
       "<table border=\"1\" class=\"dataframe\">\n",
       "  <thead>\n",
       "    <tr style=\"text-align: right;\">\n",
       "      <th></th>\n",
       "      <th>Unnamed: 0</th>\n",
       "      <th>Unnamed: 0.1</th>\n",
       "      <th>Unnamed: 0.1.1</th>\n",
       "      <th>Row</th>\n",
       "      <th>Anon Student Id</th>\n",
       "      <th>Problem Hierarchy</th>\n",
       "      <th>Problem Name</th>\n",
       "      <th>Problem View</th>\n",
       "      <th>Step Name</th>\n",
       "      <th>Step Start Time</th>\n",
       "      <th>...</th>\n",
       "      <th>CFA | Anon Student Id,Step Name</th>\n",
       "      <th>ability from KC and Frequency</th>\n",
       "      <th>ability from KC and Hints</th>\n",
       "      <th>Date and Time</th>\n",
       "      <th>Date</th>\n",
       "      <th>KC History Today</th>\n",
       "      <th>KC History Yesterday</th>\n",
       "      <th>KC History Week</th>\n",
       "      <th>Unit</th>\n",
       "      <th>CFA | Anon Student Id,Unit</th>\n",
       "    </tr>\n",
       "  </thead>\n",
       "  <tbody>\n",
       "    <tr>\n",
       "      <th>0</th>\n",
       "      <td>0</td>\n",
       "      <td>0</td>\n",
       "      <td>0</td>\n",
       "      <td>9938</td>\n",
       "      <td>52vEY7f17k</td>\n",
       "      <td>Unit CTA1_13, Section CTA1_13-1</td>\n",
       "      <td>PROP04</td>\n",
       "      <td>1</td>\n",
       "      <td>R1C1</td>\n",
       "      <td>2005-09-09 12:23:34.0</td>\n",
       "      <td>...</td>\n",
       "      <td>0.949153</td>\n",
       "      <td>0.049317</td>\n",
       "      <td>0.77384</td>\n",
       "      <td>2005-09-09 12:23:34</td>\n",
       "      <td>2005-09-09 00:00:00</td>\n",
       "      <td>19</td>\n",
       "      <td>0.0</td>\n",
       "      <td>0.0</td>\n",
       "      <td>Unit CTA1_13</td>\n",
       "      <td>0.762376</td>\n",
       "    </tr>\n",
       "  </tbody>\n",
       "</table>\n",
       "<p>1 rows × 42 columns</p>\n",
       "</div>"
      ],
      "text/plain": [
       "   Unnamed: 0  Unnamed: 0.1  Unnamed: 0.1.1   Row Anon Student Id  \\\n",
       "0           0             0               0  9938      52vEY7f17k   \n",
       "\n",
       "                 Problem Hierarchy Problem Name  Problem View Step Name  \\\n",
       "0  Unit CTA1_13, Section CTA1_13-1       PROP04             1      R1C1   \n",
       "\n",
       "         Step Start Time  ... CFA | Anon Student Id,Step Name  \\\n",
       "0  2005-09-09 12:23:34.0  ...                        0.949153   \n",
       "\n",
       "  ability from KC and Frequency ability from KC and Hints  \\\n",
       "0                      0.049317                   0.77384   \n",
       "\n",
       "         Date and Time                 Date  KC History Today  \\\n",
       "0  2005-09-09 12:23:34  2005-09-09 00:00:00                19   \n",
       "\n",
       "   KC History Yesterday  KC History Week          Unit  \\\n",
       "0                   0.0              0.0  Unit CTA1_13   \n",
       "\n",
       "   CFA | Anon Student Id,Unit  \n",
       "0                    0.762376  \n",
       "\n",
       "[1 rows x 42 columns]"
      ]
     },
     "execution_count": 206,
     "metadata": {},
     "output_type": "execute_result"
    }
   ],
   "source": [
    "traindf.head(1)"
   ]
  },
  {
   "cell_type": "code",
   "execution_count": 278,
   "metadata": {},
   "outputs": [],
   "source": [
    "# CFAR_features = [ nameOfCFAR(v) for v in [\n",
    "#     [\"Anon Student Id\"], [\"Step Name\"], [\"Problem Name\"], [\"KC(Default)\"]\n",
    "#     , [\"Anon Student Id\", \"Problem Name\"], \n",
    "# ]]\n",
    "# CFAREX_features = [ nameOfCFAR(v) for v in [\n",
    "#     [\"Problem Name\", \"Step Name\"]\n",
    "#     , [\"Anon Student Id\", \"Step Name\"]\n",
    "# ]]\n",
    "CFAR_features = [ nameOfCFAR(v) for v in [\n",
    "    [\"Anon Student Id\"],[\"Anon Student Id\", \"Unit\"]\n",
    "]]\n",
    "CFAREX_features = [ nameOfCFAR(v) for v in [\n",
    "     [\"Anon Student Id\", \"Step Name\"]\n",
    "]]\n",
    "ability_features = [\"ability from KC and Frequency\", \"ability from KC and Hints\"]\n",
    "temporal_features = ['KC History Today','KC History Yesterday']\n",
    "numerical_features = [\"Problem View(Norm)\", \"Opportunity(Norm)\"]\n",
    "features = []\n",
    "features+=CFAR_features \n",
    "# features+= CFAREX_features\n",
    "features+= numerical_features \n",
    "features += temporal_features\n",
    "# features += ability_features\n",
    "labels = [\"Correct First Attempt\"]"
   ]
  },
  {
   "cell_type": "code",
   "execution_count": 279,
   "metadata": {},
   "outputs": [],
   "source": [
    "traindf = traindf.dropna(axis=\"index\", subset=features+labels)\n",
    "X = np.array(traindf[features])\n",
    "Y = np.array(traindf[labels]).astype(float).ravel()"
   ]
  },
  {
   "cell_type": "markdown",
   "metadata": {},
   "source": [
    "## Decision Tree"
   ]
  },
  {
   "cell_type": "code",
   "execution_count": 201,
   "metadata": {},
   "outputs": [],
   "source": [
    "from sklearn import tree\n",
    "dt_model = tree.DecisionTreeClassifier(max_depth=10)"
   ]
  },
  {
   "cell_type": "code",
   "execution_count": 202,
   "metadata": {},
   "outputs": [],
   "source": [
    "dt_model = dt_model.fit(X, Y)"
   ]
  },
  {
   "cell_type": "markdown",
   "metadata": {},
   "source": [
    "## Random Forest"
   ]
  },
  {
   "cell_type": "code",
   "execution_count": 280,
   "metadata": {},
   "outputs": [],
   "source": [
    "from sklearn import ensemble\n",
    "est_count = 100\n",
    "rf_model = ensemble.RandomForestClassifier(n_estimators = est_count, criterion=\"entropy\", max_depth=12)"
   ]
  },
  {
   "cell_type": "code",
   "execution_count": 281,
   "metadata": {},
   "outputs": [],
   "source": [
    "rf_model = rf_model.fit(X, Y)"
   ]
  },
  {
   "cell_type": "markdown",
   "metadata": {},
   "source": [
    "## Logistic Regression"
   ]
  },
  {
   "cell_type": "code",
   "execution_count": 294,
   "metadata": {},
   "outputs": [],
   "source": [
    "from sklearn import linear_model\n",
    "lr_model = linear_model.LogisticRegression()"
   ]
  },
  {
   "cell_type": "code",
   "execution_count": 295,
   "metadata": {},
   "outputs": [
    {
     "name": "stderr",
     "output_type": "stream",
     "text": [
      "/Users/zhangge/Documents/DB_proj/env/lib/python3.6/site-packages/sklearn/linear_model/logistic.py:432: FutureWarning: Default solver will be changed to 'lbfgs' in 0.22. Specify a solver to silence this warning.\n",
      "  FutureWarning)\n"
     ]
    }
   ],
   "source": [
    "lr_model = lr_model.fit(X, Y)"
   ]
  },
  {
   "cell_type": "markdown",
   "metadata": {},
   "source": [
    "# Testing"
   ]
  },
  {
   "cell_type": "code",
   "execution_count": 298,
   "metadata": {},
   "outputs": [],
   "source": [
    "# Root Mean Squared Error\n",
    "# Here, we consider using numpy as a powerful\n",
    "# utility to solve the RMSE\n",
    "def RMSE(P, Y):\n",
    "    return np.sqrt(np.sum(np.square(P - Y)) / len(Y))"
   ]
  },
  {
   "cell_type": "markdown",
   "metadata": {},
   "source": [
    "# Data Loading"
   ]
  },
  {
   "cell_type": "code",
   "execution_count": 209,
   "metadata": {},
   "outputs": [
    {
     "name": "stderr",
     "output_type": "stream",
     "text": [
      "/Users/zhangge/Documents/DB_proj/env/lib/python3.6/site-packages/ipykernel_launcher.py:3: FutureWarning: read_table is deprecated, use read_csv instead, passing sep='\\t'.\n",
      "  This is separate from the ipykernel package so we can avoid doing imports until\n"
     ]
    }
   ],
   "source": [
    "# Get the basic test data\n",
    "test_filepath = 'data/agg_test.csv'\n",
    "testdf = pd.read_table(test_filepath)"
   ]
  },
  {
   "cell_type": "code",
   "execution_count": null,
   "metadata": {},
   "outputs": [],
   "source": [
    "# CFAR features\n",
    "test_filepath = 'data/CFAR_features_test.csv'\n",
    "test_cfar = pd.read_table(test_filepath)[CFAR_features]"
   ]
  },
  {
   "cell_type": "code",
   "execution_count": null,
   "metadata": {},
   "outputs": [],
   "source": [
    "# CFAREX features\n",
    "test_filepath = 'data/cfarex_features_train.csv'\n",
    "test_cfarex = pd.read_table(test_filepath)[CFAREX_features]"
   ]
  },
  {
   "cell_type": "code",
   "execution_count": null,
   "metadata": {},
   "outputs": [],
   "source": [
    "# Ability features\n",
    "test_filepath = 'data/ability_features_test.csv'\n",
    "test_abt = pd.read_table(test_filepath)[ability_features]"
   ]
  },
  {
   "cell_type": "code",
   "execution_count": null,
   "metadata": {},
   "outputs": [],
   "source": [
    "testdf[\"Problem View(Norm)\"] = testdf.apply(f_norm, axis=\"columns\", args=(\"Problem View\",))\n",
    "testdf[\"Opportunity(Norm)\"] = testdf.apply(f_norm, axis=\"columns\", args=(\"Opportunity(Default)\",))"
   ]
  },
  {
   "cell_type": "code",
   "execution_count": null,
   "metadata": {},
   "outputs": [],
   "source": [
    "# Concat\n",
    "testdf = pd.concat([testdf, test_cfar, test_cfarex, test_abt], axis=\"columns\")"
   ]
  },
  {
   "cell_type": "code",
   "execution_count": 299,
   "metadata": {},
   "outputs": [],
   "source": [
    "# Drop unknown values\n",
    "testdf = testdf.dropna(axis=\"index\", subset=features+labels)\n",
    "# Extract used columns(features)\n",
    "X_ = np.array(testdf[features])\n",
    "Y_ = np.array(testdf[labels]).astype(float).ravel()"
   ]
  },
  {
   "cell_type": "code",
   "execution_count": 300,
   "metadata": {},
   "outputs": [
    {
     "name": "stdout",
     "output_type": "stream",
     "text": [
      "0.39716456811411466\n",
      "\n",
      "Feature ranking:\n",
      " 1 - CFA | Anon Student Id,Unit: 0.3573 (std: 0.0482)\n",
      " 2 - KC History Today    : 0.2617 (std: 0.0171)\n",
      " 3 - Opportunity(Norm)   : 0.1990 (std: 0.0125)\n",
      " 4 - CFA | Anon Student Id: 0.1362 (std: 0.0379)\n",
      " 5 - KC History Yesterday: 0.0458 (std: 0.0041)\n"
     ]
    }
   ],
   "source": [
    "# P = rf_model.predict_proba(X_)\n",
    "P = lr_model.predict_proba(X_)\n",
    "# P = dt_model.predict_proba(X_)\n",
    "# P = np.min(P, axis=1)\n",
    "P = P[:, 1]\n",
    "print(RMSE(P, Y_))\n",
    "\n",
    "importances = rf_model.feature_importances_\n",
    "n_feats = len(features)\n",
    "feat_std = np.std([tree.feature_importances_ for tree in rf_model.estimators_], axis=0)\n",
    "indices = np.argsort(importances)[::-1]\n",
    "\n",
    "# Print the feature ranking\n",
    "print(\"\\nFeature ranking:\")\n",
    "\n",
    "for f in range(n_feats):\n",
    "    print('{0:2} - {1:20}: {2:5.4f} (std: {3:5.4f})'.format(\n",
    "        f+1\n",
    "        , features[indices[f]]\n",
    "        , importances[indices[f]]\n",
    "        , feat_std[indices[f]]\n",
    "    ))"
   ]
  },
  {
   "cell_type": "code",
   "execution_count": 284,
   "metadata": {},
   "outputs": [
    {
     "data": {
      "text/plain": [
       "0.7936507936507936"
      ]
     },
     "execution_count": 284,
     "metadata": {},
     "output_type": "execute_result"
    }
   ],
   "source": [
    "rf_model.score(X_,Y_)"
   ]
  },
  {
   "cell_type": "code",
   "execution_count": 285,
   "metadata": {},
   "outputs": [
    {
     "data": {
      "text/plain": [
       "0.7979969408448768"
      ]
     },
     "execution_count": 285,
     "metadata": {},
     "output_type": "execute_result"
    }
   ],
   "source": [
    "rf_model.score(X,Y)"
   ]
  },
  {
   "cell_type": "code",
   "execution_count": null,
   "metadata": {},
   "outputs": [],
   "source": []
  }
 ],
 "metadata": {
  "kernelspec": {
   "display_name": "Python 3",
   "language": "python",
   "name": "python3"
  },
  "language_info": {
   "codemirror_mode": {
    "name": "ipython",
    "version": 3
   },
   "file_extension": ".py",
   "mimetype": "text/x-python",
   "name": "python",
   "nbconvert_exporter": "python",
   "pygments_lexer": "ipython3",
   "version": "3.6.8"
  }
 },
 "nbformat": 4,
 "nbformat_minor": 2
}
