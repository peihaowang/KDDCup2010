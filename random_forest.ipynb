{
 "cells": [
  {
   "cell_type": "markdown",
   "metadata": {},
   "source": [
    "# Machine Learning"
   ]
  },
  {
   "cell_type": "code",
   "execution_count": 2,
   "metadata": {},
   "outputs": [],
   "source": [
    "%matplotlib inline\n",
    "import pandas as pd\n",
    "import numpy as np\n",
    "import matplotlib.pyplot as plt\n",
    "import sklearn\n",
    "from utils import *"
   ]
  },
  {
   "cell_type": "markdown",
   "metadata": {},
   "source": [
    "## Data Loading"
   ]
  },
  {
   "cell_type": "code",
   "execution_count": 460,
   "metadata": {},
   "outputs": [
    {
     "name": "stderr",
     "output_type": "stream",
     "text": [
      "/Users/zhangge/Documents/DB_proj/env/lib/python3.6/site-packages/ipykernel_launcher.py:2: FutureWarning: read_table is deprecated, use read_csv instead, passing sep='\\t'.\n",
      "  \n",
      "/Users/zhangge/Documents/DB_proj/env/lib/python3.6/site-packages/ipykernel_launcher.py:5: FutureWarning: read_table is deprecated, use read_csv instead, passing sep='\\t'.\n",
      "  \"\"\"\n"
     ]
    }
   ],
   "source": [
    "train_filepath = 'data/agg_train.csv'\n",
    "traindf = pd.read_table(train_filepath)\n",
    "\n",
    "test_filepath = 'data/agg_test_666.csv'\n",
    "testdf = pd.read_table(test_filepath)\n"
   ]
  },
  {
   "cell_type": "markdown",
   "metadata": {},
   "source": [
    "## For ensemble, we load result from sparse model"
   ]
  },
  {
   "cell_type": "code",
   "execution_count": 504,
   "metadata": {},
   "outputs": [
    {
     "name": "stderr",
     "output_type": "stream",
     "text": [
      "/Users/zhangge/Documents/DB_proj/env/lib/python3.6/site-packages/ipykernel_launcher.py:2: FutureWarning: read_table is deprecated, use read_csv instead, passing sep='\\t'.\n",
      "  \n",
      "/Users/zhangge/Documents/DB_proj/env/lib/python3.6/site-packages/ipykernel_launcher.py:5: FutureWarning: read_table is deprecated, use read_csv instead, passing sep='\\t'.\n",
      "  \"\"\"\n"
     ]
    }
   ],
   "source": [
    "sparse_train_filepath = 'data/sparse_train.csv'\n",
    "sparse_train = pd.read_table(sparse_train_filepath)\n",
    "\n",
    "sparse_test_filepath = 'data/sparse_test.csv'\n",
    "sparse_test = pd.read_table(sparse_test_filepath)"
   ]
  },
  {
   "cell_type": "code",
   "execution_count": 505,
   "metadata": {},
   "outputs": [
    {
     "name": "stderr",
     "output_type": "stream",
     "text": [
      "/Users/zhangge/Documents/DB_proj/env/lib/python3.6/site-packages/ipykernel_launcher.py:1: SettingWithCopyWarning: \n",
      "A value is trying to be set on a copy of a slice from a DataFrame.\n",
      "Try using .loc[row_indexer,col_indexer] = value instead\n",
      "\n",
      "See the caveats in the documentation: http://pandas.pydata.org/pandas-docs/stable/indexing.html#indexing-view-versus-copy\n",
      "  \"\"\"Entry point for launching an IPython kernel.\n"
     ]
    }
   ],
   "source": [
    "traindf['sparse_res'] = sparse_train['sparse_res']\n",
    "testdf['sparse_res'] = sparse_test['sparse_res']"
   ]
  },
  {
   "cell_type": "code",
   "execution_count": 541,
   "metadata": {},
   "outputs": [],
   "source": [
    "# CFAR_features = [ nameOfCFAR(v) for v in [\n",
    "#     [\"Anon Student Id\"], [\"Step Name\"], [\"Problem Name\"], [\"KC(Default)\"]\n",
    "#     , [\"Anon Student Id\", \"Problem Name\"],[\"Anon Student Id\",\"KC(Default)\"]\n",
    "# ]]\n",
    "# CFAREX_features = [ nameOfCFAR(v) for v in [\n",
    "#     [\"Problem Name\", \"Step Name\"]\n",
    "#     , [\"Anon Student Id\", \"Step Name\"]\n",
    "# ]]\n",
    "# ability_features = [\"ability from KC and Frequency\", \"ability from KC and Hints\"]\n",
    "CFAR_features = [ nameOfCFAR(v) for v in [\n",
    "    [\"Anon Student Id\"],[\"Anon Student Id\", \"Unit\"]\n",
    "]]\n",
    "ability_features = [\"ability from KC and Frequency\",  \"ability from KC and Hints\"]\n",
    "temporal_features = ['KC History Today','KC History Yesterday']\n",
    "numerical_features = [\"Problem View(Norm)\", \"Opportunity(Norm)\"]\n",
    "sparse_features = ['sparse_res']\n",
    "features = []\n",
    "features+=CFAR_features \n",
    "\n",
    "features+= numerical_features \n",
    "features += temporal_features\n",
    "features += ability_features\n",
    "features += sparse_features\n",
    "labels = [\"Correct First Attempt\"]"
   ]
  },
  {
   "cell_type": "code",
   "execution_count": 542,
   "metadata": {},
   "outputs": [],
   "source": [
    "traindf = traindf.dropna(axis=\"index\", subset=features+labels)\n",
    "X = np.array(traindf[features])\n",
    "Y = np.array(traindf[labels]).astype(float).ravel()"
   ]
  },
  {
   "cell_type": "markdown",
   "metadata": {},
   "source": [
    "# Different Models"
   ]
  },
  {
   "cell_type": "markdown",
   "metadata": {},
   "source": [
    "## Decision Tree"
   ]
  },
  {
   "cell_type": "code",
   "execution_count": 560,
   "metadata": {},
   "outputs": [],
   "source": [
    "from sklearn import tree\n",
    "dt_model = tree.DecisionTreeClassifier(max_depth=1)"
   ]
  },
  {
   "cell_type": "code",
   "execution_count": 561,
   "metadata": {},
   "outputs": [],
   "source": [
    "dt_model = dt_model.fit(X, Y)"
   ]
  },
  {
   "cell_type": "markdown",
   "metadata": {},
   "source": [
    "## Random Forest"
   ]
  },
  {
   "cell_type": "code",
   "execution_count": 550,
   "metadata": {},
   "outputs": [],
   "source": [
    "from sklearn import ensemble\n",
    "est_count = 100\n",
    "rf_model = ensemble.RandomForestClassifier(n_estimators = est_count, criterion=\"entropy\", max_depth=3)"
   ]
  },
  {
   "cell_type": "code",
   "execution_count": 551,
   "metadata": {},
   "outputs": [],
   "source": [
    "rf_model = rf_model.fit(X, Y)"
   ]
  },
  {
   "cell_type": "markdown",
   "metadata": {},
   "source": [
    "## Logistic Regression"
   ]
  },
  {
   "cell_type": "code",
   "execution_count": 514,
   "metadata": {},
   "outputs": [],
   "source": [
    "from sklearn import linear_model\n",
    "lr_model = linear_model.LogisticRegression()"
   ]
  },
  {
   "cell_type": "code",
   "execution_count": 515,
   "metadata": {},
   "outputs": [
    {
     "name": "stderr",
     "output_type": "stream",
     "text": [
      "/Users/zhangge/Documents/DB_proj/env/lib/python3.6/site-packages/sklearn/linear_model/logistic.py:432: FutureWarning: Default solver will be changed to 'lbfgs' in 0.22. Specify a solver to silence this warning.\n",
      "  FutureWarning)\n"
     ]
    }
   ],
   "source": [
    "lr_model = lr_model.fit(X, Y)"
   ]
  },
  {
   "cell_type": "markdown",
   "metadata": {},
   "source": [
    "# Testing"
   ]
  },
  {
   "cell_type": "code",
   "execution_count": 298,
   "metadata": {},
   "outputs": [],
   "source": [
    "# Root Mean Squared Error\n",
    "# Here, we consider using numpy as a powerful\n",
    "# utility to solve the RMSE\n",
    "def RMSE(P, Y):\n",
    "    return np.sqrt(np.sum(np.square(P - Y)) / len(Y))"
   ]
  },
  {
   "cell_type": "markdown",
   "metadata": {},
   "source": [
    "# Data Loading"
   ]
  },
  {
   "cell_type": "code",
   "execution_count": 371,
   "metadata": {},
   "outputs": [
    {
     "name": "stderr",
     "output_type": "stream",
     "text": [
      "/Users/zhangge/Documents/DB_proj/env/lib/python3.6/site-packages/ipykernel_launcher.py:3: FutureWarning: read_table is deprecated, use read_csv instead, passing sep='\\t'.\n",
      "  This is separate from the ipykernel package so we can avoid doing imports until\n"
     ]
    }
   ],
   "source": [
    "# Get the basic test data\n",
    "test_filepath = 'data/agg_test.csv'\n",
    "testdf = pd.read_table(test_filepath)"
   ]
  },
  {
   "cell_type": "code",
   "execution_count": 552,
   "metadata": {},
   "outputs": [],
   "source": [
    "# Drop unknown values\n",
    "testdf = testdf.dropna(axis=\"index\", subset=features+labels)\n",
    "# Extract used columns(features)\n",
    "X_ = np.array(testdf[features])\n",
    "Y_ = np.array(testdf[labels]).astype(float).ravel()"
   ]
  },
  {
   "cell_type": "code",
   "execution_count": 562,
   "metadata": {
    "scrolled": true
   },
   "outputs": [
    {
     "name": "stdout",
     "output_type": "stream",
     "text": [
      "0.3912513808354022\n",
      "\n",
      "Feature ranking:\n",
      " 1 - sparse_res          : 0.7862 (std: 0.2875)\n",
      " 2 - ability from KC and Hints: 0.1575 (std: 0.2238)\n",
      " 3 - KC History Today    : 0.0217 (std: 0.0525)\n",
      " 4 - CFA | Anon Student Id,Unit: 0.0209 (std: 0.0421)\n",
      " 5 - ability from KC and Frequency: 0.0083 (std: 0.0208)\n",
      " 6 - CFA | Anon Student Id: 0.0051 (std: 0.0195)\n",
      " 7 - Opportunity(Norm)   : 0.0004 (std: 0.0012)\n",
      " 8 - Problem View(Norm)  : 0.0000 (std: 0.0001)\n",
      " 9 - KC History Yesterday: 0.0000 (std: 0.0000)\n"
     ]
    }
   ],
   "source": [
    "# P = rf_model.predict_proba(X_)\n",
    "# P = lr_model.predict_proba(X_)\n",
    "P = dt_model.predict_proba(X_)\n",
    "# P = np.min(P, axis=1)\n",
    "P = P[:, 1]\n",
    "print(RMSE(P, Y_))\n",
    "\n",
    "importances = rf_model.feature_importances_\n",
    "n_feats = len(features)\n",
    "feat_std = np.std([tree.feature_importances_ for tree in rf_model.estimators_], axis=0)\n",
    "indices = np.argsort(importances)[::-1]\n",
    "\n",
    "# Print the feature ranking\n",
    "print(\"\\nFeature ranking:\")\n",
    "\n",
    "for f in range(n_feats):\n",
    "    print('{0:2} - {1:20}: {2:5.4f} (std: {3:5.4f})'.format(\n",
    "        f+1\n",
    "        , features[indices[f]]\n",
    "        , importances[indices[f]]\n",
    "        , feat_std[indices[f]]\n",
    "    ))"
   ]
  },
  {
   "cell_type": "code",
   "execution_count": 416,
   "metadata": {},
   "outputs": [
    {
     "data": {
      "text/plain": [
       "0.8063492063492064"
      ]
     },
     "execution_count": 416,
     "metadata": {},
     "output_type": "execute_result"
    }
   ],
   "source": [
    "rf_model.score(X_,Y_)"
   ]
  },
  {
   "cell_type": "code",
   "execution_count": 405,
   "metadata": {},
   "outputs": [
    {
     "data": {
      "text/plain": [
       "0.8333477172693536"
      ]
     },
     "execution_count": 405,
     "metadata": {},
     "output_type": "execute_result"
    }
   ],
   "source": [
    "rf_model.score(X,Y)"
   ]
  }
 ],
 "metadata": {
  "kernelspec": {
   "display_name": "Python 3",
   "language": "python",
   "name": "python3"
  },
  "language_info": {
   "codemirror_mode": {
    "name": "ipython",
    "version": 3
   },
   "file_extension": ".py",
   "mimetype": "text/x-python",
   "name": "python",
   "nbconvert_exporter": "python",
   "pygments_lexer": "ipython3",
   "version": "3.6.8"
  }
 },
 "nbformat": 4,
 "nbformat_minor": 2
}
