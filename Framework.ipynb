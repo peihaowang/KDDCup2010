{
 "cells": [
  {
   "cell_type": "markdown",
   "metadata": {},
   "source": [
    "# Framework"
   ]
  },
  {
   "cell_type": "markdown",
   "metadata": {},
   "source": [
    "## dependencies"
   ]
  },
  {
   "cell_type": "code",
   "execution_count": 51,
   "metadata": {},
   "outputs": [],
   "source": [
    "%matplotlib inline\n",
    "import pandas as pd\n",
    "import numpy as np\n",
    "import matplotlib.pyplot as plt\n",
    "import sklearn\n",
    "import datetime"
   ]
  },
  {
   "cell_type": "markdown",
   "metadata": {},
   "source": [
    "## load data"
   ]
  },
  {
   "cell_type": "code",
   "execution_count": 52,
   "metadata": {},
   "outputs": [
    {
     "name": "stderr",
     "output_type": "stream",
     "text": [
      "/Users/zhangge/Documents/DB_proj/project-retepognajd/env/lib/python3.6/site-packages/ipykernel_launcher.py:2: FutureWarning: read_table is deprecated, use read_csv instead, passing sep='\\t'.\n",
      "  \n",
      "/Users/zhangge/Documents/DB_proj/project-retepognajd/env/lib/python3.6/site-packages/ipykernel_launcher.py:5: FutureWarning: read_table is deprecated, use read_csv instead, passing sep='\\t'.\n",
      "  \"\"\"\n",
      "/Users/zhangge/Documents/DB_proj/project-retepognajd/env/lib/python3.6/site-packages/ipykernel_launcher.py:8: FutureWarning: read_table is deprecated, use read_csv instead, passing sep='\\t'.\n",
      "  \n"
     ]
    }
   ],
   "source": [
    "train_filepath = 'data/train.csv'\n",
    "train_df = pd.read_table(train_filepath)\n",
    "\n",
    "test_filepath = 'data/test.csv'\n",
    "test_df = pd.read_table(test_filepath)\n",
    "\n",
    "half_done_filepath = 'data/all_fucking_features.csv'\n",
    "featured_df = pd.read_table(half_done_filepath)\n"
   ]
  },
  {
   "cell_type": "markdown",
   "metadata": {},
   "source": [
    "## functions for feature engineering"
   ]
  },
  {
   "cell_type": "code",
   "execution_count": 58,
   "metadata": {},
   "outputs": [],
   "source": [
    "# to wash data\n",
    "def wash_KC(x):\n",
    "    if type(x) != str:\n",
    "        x = 'Null'\n",
    "    return x\n",
    "\n",
    "#transfer string to date and time\n",
    "def date_trans(str_time):\n",
    "    if type(str_time) != str:\n",
    "        return datetime.datetime(2000, 1, 1)\n",
    "    format = \"%Y-%m-%d %H:%M:%S.0\"\n",
    "    return datetime.datetime.strptime(str_time,format)\n",
    "\n",
    "# create series of pandas date and time\n",
    "def trans_date_time_series(data):\n",
    "    cat = \"Step Start Time\"\n",
    "    str_chosen_time = list(data[cat])\n",
    "    date_time = [date_trans(x) for x in str_chosen_time]\n",
    "    date = [x.date() for x in date_time]\n",
    "    datetime_s = pd.to_datetime(date_time)\n",
    "    date_s = pd.to_datetime(date)\n",
    "    return (date_s,datetime_s)\n",
    "  \n",
    "# incorrects + corrects = # of steps\n",
    "def count_num(row):\n",
    "    return row[\"Corrects\"]+row[\"Incorrects\"]\n",
    "    \n",
    "# generate a dataframe for the relations of Sid, KC and Time\n",
    "def gen_history_df(data):\n",
    "    date,date_time = trans_date_time_series(data)\n",
    "\n",
    "    data['Date and Time'] = date_time\n",
    "    data['Date'] = date\n",
    "\n",
    "    return data.groupby(['Anon Student Id','KC(Default)','Date']).size()\n",
    "    \n",
    "#     group_sum = grouped.aggregate(np.sum)\n",
    "#     group_sum = group_sum[[\"Incorrects\",\"Corrects\"]]\n",
    "\n",
    "#     temp_ = group_sum[\"Corrects\"] + group_sum[\"Incorrects\"]\n",
    "#     group_sum[\"count\"] = temp_\n",
    "#     group_sum = group_sum[[\"count\"]]\n",
    "#     return group_sum\n",
    "\n",
    "# applied to each step\n",
    "def get_history_step(row):\n",
    "    t = row[\"Row\"]\n",
    "    Sid = row[\"Anon Student Id\"]\n",
    "    KC = row[\"KC(Default)\"]\n",
    "    Date = row[\"Date\"]\n",
    "    day_thres = 7\n",
    "    return historytable.loc[Sid].loc[KC].loc[Date]"
   ]
  },
  {
   "cell_type": "markdown",
   "metadata": {},
   "source": [
    "## Wash Data, transfer NaN to other type"
   ]
  },
  {
   "cell_type": "code",
   "execution_count": 59,
   "metadata": {},
   "outputs": [],
   "source": [
    "train_df['KC(Default)'] = train_df['KC(Default)'].apply(wash_KC)\n",
    "\n",
    "test_df['KC(Default)'] = test_df['KC(Default)'].apply(wash_KC)"
   ]
  },
  {
   "cell_type": "markdown",
   "metadata": {},
   "source": [
    "## Add Date, Date Time columns to data"
   ]
  },
  {
   "cell_type": "code",
   "execution_count": 60,
   "metadata": {},
   "outputs": [],
   "source": [
    "train_df['Date and Time'],train_df['Date'] = trans_date_time_series(train_df)"
   ]
  },
  {
   "cell_type": "markdown",
   "metadata": {},
   "source": [
    "## generate history table "
   ]
  },
  {
   "cell_type": "code",
   "execution_count": 61,
   "metadata": {},
   "outputs": [
    {
     "data": {
      "text/plain": [
       "Anon Student Id  KC(Default)           Date      \n",
       "02i5jCrfQK       Changing axis bounds  2005-09-06     8\n",
       "                                       2005-09-08     4\n",
       "                                       2005-09-27     8\n",
       "                                       2005-09-28    15\n",
       "                                       2005-09-29     9\n",
       "dtype: int64"
      ]
     },
     "execution_count": 61,
     "metadata": {},
     "output_type": "execute_result"
    }
   ],
   "source": [
    "historytable = gen_history_df(train_df)\n",
    "historytable.head()"
   ]
  },
  {
   "cell_type": "code",
   "execution_count": 62,
   "metadata": {},
   "outputs": [
    {
     "data": {
      "text/html": [
       "<div>\n",
       "<style scoped>\n",
       "    .dataframe tbody tr th:only-of-type {\n",
       "        vertical-align: middle;\n",
       "    }\n",
       "\n",
       "    .dataframe tbody tr th {\n",
       "        vertical-align: top;\n",
       "    }\n",
       "\n",
       "    .dataframe thead th {\n",
       "        text-align: right;\n",
       "    }\n",
       "</style>\n",
       "<table border=\"1\" class=\"dataframe\">\n",
       "  <thead>\n",
       "    <tr style=\"text-align: right;\">\n",
       "      <th></th>\n",
       "      <th>Row</th>\n",
       "      <th>Anon Student Id</th>\n",
       "      <th>Problem Hierarchy</th>\n",
       "      <th>Problem Name</th>\n",
       "      <th>Problem View</th>\n",
       "      <th>Step Name</th>\n",
       "      <th>Step Start Time</th>\n",
       "      <th>First Transaction Time</th>\n",
       "      <th>Correct Transaction Time</th>\n",
       "      <th>Step End Time</th>\n",
       "      <th>...</th>\n",
       "      <th>Error Step Duration (sec)</th>\n",
       "      <th>Correct First Attempt</th>\n",
       "      <th>Incorrects</th>\n",
       "      <th>Hints</th>\n",
       "      <th>Corrects</th>\n",
       "      <th>KC(Default)</th>\n",
       "      <th>Opportunity(Default)</th>\n",
       "      <th>Date and Time</th>\n",
       "      <th>Date</th>\n",
       "      <th>KC History</th>\n",
       "    </tr>\n",
       "  </thead>\n",
       "  <tbody>\n",
       "    <tr>\n",
       "      <th>0</th>\n",
       "      <td>9938</td>\n",
       "      <td>52vEY7f17k</td>\n",
       "      <td>Unit CTA1_13, Section CTA1_13-1</td>\n",
       "      <td>PROP04</td>\n",
       "      <td>1</td>\n",
       "      <td>R1C1</td>\n",
       "      <td>2005-09-09 12:23:34.0</td>\n",
       "      <td>2005-09-09 12:24:07.0</td>\n",
       "      <td>2005-09-09 12:24:07.0</td>\n",
       "      <td>2005-09-09 12:24:07.0</td>\n",
       "      <td>...</td>\n",
       "      <td>NaN</td>\n",
       "      <td>1</td>\n",
       "      <td>0</td>\n",
       "      <td>0</td>\n",
       "      <td>1</td>\n",
       "      <td>Null</td>\n",
       "      <td>NaN</td>\n",
       "      <td>2005-09-09 12:23:34</td>\n",
       "      <td>2005-09-09</td>\n",
       "      <td>19</td>\n",
       "    </tr>\n",
       "    <tr>\n",
       "      <th>1</th>\n",
       "      <td>9939</td>\n",
       "      <td>52vEY7f17k</td>\n",
       "      <td>Unit CTA1_13, Section CTA1_13-1</td>\n",
       "      <td>PROP04</td>\n",
       "      <td>1</td>\n",
       "      <td>R1C2</td>\n",
       "      <td>2005-09-09 12:24:07.0</td>\n",
       "      <td>2005-09-09 12:24:22.0</td>\n",
       "      <td>2005-09-09 12:24:22.0</td>\n",
       "      <td>2005-09-09 12:24:22.0</td>\n",
       "      <td>...</td>\n",
       "      <td>NaN</td>\n",
       "      <td>1</td>\n",
       "      <td>0</td>\n",
       "      <td>0</td>\n",
       "      <td>1</td>\n",
       "      <td>Null</td>\n",
       "      <td>NaN</td>\n",
       "      <td>2005-09-09 12:24:07</td>\n",
       "      <td>2005-09-09</td>\n",
       "      <td>19</td>\n",
       "    </tr>\n",
       "    <tr>\n",
       "      <th>2</th>\n",
       "      <td>9940</td>\n",
       "      <td>52vEY7f17k</td>\n",
       "      <td>Unit CTA1_13, Section CTA1_13-1</td>\n",
       "      <td>PROP04</td>\n",
       "      <td>1</td>\n",
       "      <td>R3C1</td>\n",
       "      <td>2005-09-09 12:24:22.0</td>\n",
       "      <td>2005-09-09 12:25:16.0</td>\n",
       "      <td>2005-09-09 12:25:40.0</td>\n",
       "      <td>2005-09-09 12:25:40.0</td>\n",
       "      <td>...</td>\n",
       "      <td>78.0</td>\n",
       "      <td>0</td>\n",
       "      <td>2</td>\n",
       "      <td>0</td>\n",
       "      <td>1</td>\n",
       "      <td>Define Variable</td>\n",
       "      <td>1</td>\n",
       "      <td>2005-09-09 12:24:22</td>\n",
       "      <td>2005-09-09</td>\n",
       "      <td>5</td>\n",
       "    </tr>\n",
       "    <tr>\n",
       "      <th>3</th>\n",
       "      <td>9941</td>\n",
       "      <td>52vEY7f17k</td>\n",
       "      <td>Unit CTA1_13, Section CTA1_13-1</td>\n",
       "      <td>PROP04</td>\n",
       "      <td>1</td>\n",
       "      <td>R3C2</td>\n",
       "      <td>2005-09-09 12:25:40.0</td>\n",
       "      <td>2005-09-09 12:25:51.0</td>\n",
       "      <td>2005-09-09 12:27:24.0</td>\n",
       "      <td>2005-09-09 12:27:24.0</td>\n",
       "      <td>...</td>\n",
       "      <td>104.0</td>\n",
       "      <td>0</td>\n",
       "      <td>4</td>\n",
       "      <td>9</td>\n",
       "      <td>1</td>\n",
       "      <td>Using small numbers~~Write expression, positiv...</td>\n",
       "      <td>1~~1~~1</td>\n",
       "      <td>2005-09-09 12:25:40</td>\n",
       "      <td>2005-09-09</td>\n",
       "      <td>5</td>\n",
       "    </tr>\n",
       "    <tr>\n",
       "      <th>4</th>\n",
       "      <td>9942</td>\n",
       "      <td>52vEY7f17k</td>\n",
       "      <td>Unit CTA1_13, Section CTA1_13-1</td>\n",
       "      <td>PROP04</td>\n",
       "      <td>1</td>\n",
       "      <td>R4C1</td>\n",
       "      <td>2005-09-09 12:27:24.0</td>\n",
       "      <td>2005-09-09 12:27:30.0</td>\n",
       "      <td>2005-09-09 12:27:30.0</td>\n",
       "      <td>2005-09-09 12:27:30.0</td>\n",
       "      <td>...</td>\n",
       "      <td>NaN</td>\n",
       "      <td>1</td>\n",
       "      <td>0</td>\n",
       "      <td>0</td>\n",
       "      <td>1</td>\n",
       "      <td>Entering a given</td>\n",
       "      <td>1</td>\n",
       "      <td>2005-09-09 12:27:24</td>\n",
       "      <td>2005-09-09</td>\n",
       "      <td>20</td>\n",
       "    </tr>\n",
       "  </tbody>\n",
       "</table>\n",
       "<p>5 rows × 22 columns</p>\n",
       "</div>"
      ],
      "text/plain": [
       "    Row Anon Student Id                Problem Hierarchy Problem Name  \\\n",
       "0  9938      52vEY7f17k  Unit CTA1_13, Section CTA1_13-1       PROP04   \n",
       "1  9939      52vEY7f17k  Unit CTA1_13, Section CTA1_13-1       PROP04   \n",
       "2  9940      52vEY7f17k  Unit CTA1_13, Section CTA1_13-1       PROP04   \n",
       "3  9941      52vEY7f17k  Unit CTA1_13, Section CTA1_13-1       PROP04   \n",
       "4  9942      52vEY7f17k  Unit CTA1_13, Section CTA1_13-1       PROP04   \n",
       "\n",
       "   Problem View Step Name        Step Start Time First Transaction Time  \\\n",
       "0             1      R1C1  2005-09-09 12:23:34.0  2005-09-09 12:24:07.0   \n",
       "1             1      R1C2  2005-09-09 12:24:07.0  2005-09-09 12:24:22.0   \n",
       "2             1      R3C1  2005-09-09 12:24:22.0  2005-09-09 12:25:16.0   \n",
       "3             1      R3C2  2005-09-09 12:25:40.0  2005-09-09 12:25:51.0   \n",
       "4             1      R4C1  2005-09-09 12:27:24.0  2005-09-09 12:27:30.0   \n",
       "\n",
       "  Correct Transaction Time          Step End Time  ...  \\\n",
       "0    2005-09-09 12:24:07.0  2005-09-09 12:24:07.0  ...   \n",
       "1    2005-09-09 12:24:22.0  2005-09-09 12:24:22.0  ...   \n",
       "2    2005-09-09 12:25:40.0  2005-09-09 12:25:40.0  ...   \n",
       "3    2005-09-09 12:27:24.0  2005-09-09 12:27:24.0  ...   \n",
       "4    2005-09-09 12:27:30.0  2005-09-09 12:27:30.0  ...   \n",
       "\n",
       "   Error Step Duration (sec)  Correct First Attempt  Incorrects  Hints  \\\n",
       "0                        NaN                      1           0      0   \n",
       "1                        NaN                      1           0      0   \n",
       "2                       78.0                      0           2      0   \n",
       "3                      104.0                      0           4      9   \n",
       "4                        NaN                      1           0      0   \n",
       "\n",
       "   Corrects                                        KC(Default)  \\\n",
       "0         1                                               Null   \n",
       "1         1                                               Null   \n",
       "2         1                                    Define Variable   \n",
       "3         1  Using small numbers~~Write expression, positiv...   \n",
       "4         1                                   Entering a given   \n",
       "\n",
       "   Opportunity(Default)       Date and Time       Date KC History  \n",
       "0                   NaN 2005-09-09 12:23:34 2005-09-09         19  \n",
       "1                   NaN 2005-09-09 12:24:07 2005-09-09         19  \n",
       "2                     1 2005-09-09 12:24:22 2005-09-09          5  \n",
       "3               1~~1~~1 2005-09-09 12:25:40 2005-09-09          5  \n",
       "4                     1 2005-09-09 12:27:24 2005-09-09         20  \n",
       "\n",
       "[5 rows x 22 columns]"
      ]
     },
     "execution_count": 62,
     "metadata": {},
     "output_type": "execute_result"
    }
   ],
   "source": [
    "train_df['KC History'] = train_df.apply(get_history_step,axis = 1)\n",
    "train_df.head()"
   ]
  },
  {
   "cell_type": "markdown",
   "metadata": {},
   "source": [
    "## Functions for higher level feature"
   ]
  },
  {
   "cell_type": "code",
   "execution_count": 63,
   "metadata": {},
   "outputs": [],
   "source": [
    "# the relation bewtween Correct answer and the number of hint\n",
    "def student_ability_KC_hint(row):\n",
    "    up = row[\"Corrects\"]\n",
    "    low = np.exp(row[\"Hints\"])\n",
    "    return up/low\n",
    "\n",
    "# the relation bewtween Correct answer and the KC's frequency\n",
    "def student_ability_KC_frequency(row):\n",
    "    up = row[\"Corrects\"]\n",
    "    oppo = row[\"Opportunity(Default)\"]\n",
    "    if type(oppo) != str:\n",
    "        oppo = 0\n",
    "    else:\n",
    "        oppo = oppo.split(\"~~\")\n",
    "        oppo = [int(x) for x in oppo]\n",
    "        oppo = min(oppo)    \n",
    "    return up / (oppo + int(row[\"KC History\"] + 1))\n",
    "\n",
    "\n",
    "def get_avg_KCF(row):\n",
    "    Sid = row[\"Anon Student Id\"]\n",
    "    KC = row[\"KC(Default)\"]\n",
    "    try:\n",
    "        return sum_KCH_KCF.loc[Sid].loc[KC]['AVG_KCF']\n",
    "    except KeyError:\n",
    "        return 0\n",
    "        \n",
    "\n",
    "def get_avg_KCH(row):\n",
    "    Sid = row[\"Anon Student Id\"]\n",
    "    KC = row[\"KC(Default)\"]\n",
    "    try:\n",
    "        return sum_KCH_KCF.loc[Sid].loc[KC]['AVG_KCH']\n",
    "    except KeyError:\n",
    "        return 0\n",
    "    \n",
    "def gen_ability_feature(data):\n",
    "    data[\"KC_F\"] = data.apply(student_ability_KC_frequency,axis = 1)\n",
    "    data[\"KC_H\"] = data.apply(student_ability_KC_hint,axis = 1)\n",
    "\n",
    "    sum_KCH_KCF = data.groupby([\"Anon Student Id\",\"KC(Default)\"])\n",
    "    sum_KCH_KCF = sum_KCH_KCF.aggregate(np.sum)\n",
    "    temp_count = sum_KCH_KCF[\"Corrects\"] + sum_KCH_KCF[\"Incorrects\"]\n",
    "    sum_KCH_KCF[\"count\"] = temp_count\n",
    "    sum_KCH_KCF[\"AVG_KCF\"] = sum_KCH_KCF[\"KC_F\"] / sum_KCH_KCF[\"count\"]\n",
    "    sum_KCH_KCF[\"AVG_KCH\"] = sum_KCH_KCF[\"KC_H\"] / sum_KCH_KCF[\"count\"]\n",
    "    sum_KCH_KCF = sum_KCH_KCF[[\"AVG_KCH\",\"AVG_KCF\"]]\n",
    "    \n",
    "    return sum_KCH_KCF"
   ]
  },
  {
   "cell_type": "markdown",
   "metadata": {},
   "source": [
    "## generate features representing the Students ability at KC"
   ]
  },
  {
   "cell_type": "code",
   "execution_count": 64,
   "metadata": {},
   "outputs": [],
   "source": [
    "sum_KCH_KCF = gen_ability_feature(train_df)\n",
    "\n",
    "train_df[\"ability from KC and Hints\"] = train_df.apply(get_avg_KCH,axis = 1)\n",
    "train_df[\"ability from KC and Frequency\"] = train_df.apply(get_avg_KCF,axis = 1)"
   ]
  },
  {
   "cell_type": "code",
   "execution_count": 44,
   "metadata": {},
   "outputs": [],
   "source": [
    "test_df[\"ability from KC and Hints\"] = test_df.apply(get_avg_KCH,axis = 1)\n",
    "test_df[\"ability from KC and Frequency\"] = test_df.apply(get_avg_KCF,axis = 1)"
   ]
  },
  {
   "cell_type": "markdown",
   "metadata": {},
   "source": [
    "## Save Featured Data"
   ]
  },
  {
   "cell_type": "code",
   "execution_count": 49,
   "metadata": {},
   "outputs": [],
   "source": [
    "test_df.to_csv(\"data/merge_test.csv\",sep='\\t')\n",
    "train_df.to_csv(\"data/merge_train.csv\",sep='\\t')"
   ]
  },
  {
   "cell_type": "code",
   "execution_count": 50,
   "metadata": {},
   "outputs": [
    {
     "ename": "ZeroDivisionError",
     "evalue": "division by zero",
     "output_type": "error",
     "traceback": [
      "\u001b[0;31m---------------------------------------------------------------------------\u001b[0m",
      "\u001b[0;31mZeroDivisionError\u001b[0m                         Traceback (most recent call last)",
      "\u001b[0;32m<ipython-input-50-9ab73e148374>\u001b[0m in \u001b[0;36m<module>\u001b[0;34m\u001b[0m\n\u001b[0;32m----> 1\u001b[0;31m \u001b[0;36m0\u001b[0m\u001b[0;34m/\u001b[0m\u001b[0;36m0\u001b[0m\u001b[0;34m\u001b[0m\u001b[0;34m\u001b[0m\u001b[0m\n\u001b[0m",
      "\u001b[0;31mZeroDivisionError\u001b[0m: division by zero"
     ]
    }
   ],
   "source": []
  },
  {
   "cell_type": "code",
   "execution_count": null,
   "metadata": {},
   "outputs": [],
   "source": []
  }
 ],
 "metadata": {
  "kernelspec": {
   "display_name": "Python 3",
   "language": "python",
   "name": "python3"
  },
  "language_info": {
   "codemirror_mode": {
    "name": "ipython",
    "version": 3
   },
   "file_extension": ".py",
   "mimetype": "text/x-python",
   "name": "python",
   "nbconvert_exporter": "python",
   "pygments_lexer": "ipython3",
   "version": "3.6.8"
  }
 },
 "nbformat": 4,
 "nbformat_minor": 2
}
